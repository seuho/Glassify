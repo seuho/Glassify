{
 "cells": [
  {
   "cell_type": "code",
   "execution_count": 1,
   "metadata": {},
   "outputs": [],
   "source": [
    "from fastapi import FastAPI, HTTPException, File, UploadFile\n",
    "from pydantic import BaseModel\n",
    "from typing import Optional, Union\n",
    "import nest_asyncio\n",
    "from uvicorn import Config, Server\n",
    "from pymongo import MongoClient\n",
    "import pandas as pd\n",
    "from io import BytesIO\n",
    "from dotenv import load_dotenv\n",
    "import os"
   ]
  },
  {
   "cell_type": "code",
   "execution_count": 2,
   "metadata": {},
   "outputs": [],
   "source": [
    "load_dotenv(dotenv_path=\"/Users/yashasvipamu/Documents/Web Applications/Glassify/Backend/config.env\")\n",
    "client = None"
   ]
  },
  {
   "cell_type": "code",
   "execution_count": 3,
   "metadata": {},
   "outputs": [],
   "source": [
    "def mongo_connection():\n",
    "    client = MongoClient(os.getenv(\"Mongo-url\"))\n",
    "    db = client[\"Glassify\"]\n",
    "    return db[\"Inventory\"]\n"
   ]
  },
  {
   "cell_type": "code",
   "execution_count": 4,
   "metadata": {},
   "outputs": [],
   "source": [
    "nest_asyncio.apply()"
   ]
  },
  {
   "cell_type": "code",
   "execution_count": 5,
   "metadata": {},
   "outputs": [],
   "source": [
    "app = FastAPI()"
   ]
  },
  {
   "cell_type": "code",
   "execution_count": 6,
   "metadata": {},
   "outputs": [],
   "source": [
    "class item(BaseModel):\n",
    "    id : int\n",
    "    name: str\n",
    "    description : Optional[str] = None\n",
    "    quantity: Union[str, int, float]\n",
    "    cabinet: str\n",
    "    room: str\n",
    "    location: str"
   ]
  },
  {
   "cell_type": "code",
   "execution_count": 7,
   "metadata": {},
   "outputs": [],
   "source": [
    "@app.get(\"/items\", response_model=list[item])\n",
    "async def get_items():\n",
    "    try:\n",
    "        collection = mongo_connection()\n",
    "        items = collection.find()\n",
    "        print(items)\n",
    "        results = []\n",
    "        for item in items:\n",
    "            item[\"_id\"] = str(item[\"_id\"])  # Convert ObjectId to string for JSON serialization\n",
    "            results.append(item)\n",
    "        return results\n",
    "    \n",
    "    except Exception as e:\n",
    "        raise HTTPException(status_code=500, detail=f\"An error occurred: {str(e)}\")\n",
    "\n",
    "    finally:\n",
    "        if client:\n",
    "            client.close()\n"
   ]
  },
  {
   "cell_type": "code",
   "execution_count": 8,
   "metadata": {},
   "outputs": [],
   "source": [
    "@app.get(\"/items/name/{item_name}\", response_model=item)\n",
    "async def get_item_by_name(item_name: str):\n",
    "    try:\n",
    "        collection = mongo_connection()\n",
    "        item = collection.find_one({\"name\": item_name})\n",
    "        if not item:\n",
    "            raise HTTPException(status_code=404, detail=\"Item not found\")\n",
    "        item[\"_id\"] = str(item[\"_id\"])  # Convert ObjectId to string for JSON serialization\n",
    "        return item\n",
    "    \n",
    "    except Exception as e:\n",
    "        raise HTTPException(status_code=500, detail=f\"An error occurred: {str(e)}\")\n",
    "\n",
    "    finally:\n",
    "        if client:\n",
    "            client.close()"
   ]
  },
  {
   "cell_type": "code",
   "execution_count": null,
   "metadata": {},
   "outputs": [],
   "source": [
    "@app.delete(\"/items/{item_id}\", response_model=dict)\n",
    "async def delete_item(item_id: int):\n",
    "    try:\n",
    "        collection = mongo_connection()\n",
    "        result = collection.delete_one({\"id\": item_id})\n",
    "        \n",
    "        if result.deleted_count == 0:\n",
    "            raise HTTPException(status_code=404, detail=f\"Item with ID {item_id} not found.\")\n",
    "        \n",
    "        return {\"message\": f\"Item with ID {item_id} successfully deleted.\"}\n",
    "    \n",
    "    except Exception as e:\n",
    "        raise HTTPException(status_code=500, detail=f\"An error occurred: {str(e)}\")\n",
    "    \n",
    "    finally:\n",
    "        if client:\n",
    "            client.close()"
   ]
  },
  {
   "cell_type": "code",
   "execution_count": 9,
   "metadata": {},
   "outputs": [],
   "source": [
    "@app.put(\"/items/{item_id}\", response_model=item)\n",
    "async def add_or_update_item(item_id: int, item: item):\n",
    "    try:\n",
    "        collection = mongo_connection()\n",
    "        result = collection.replace_one({\"id\": item_id}, item.dict(), upsert=True)\n",
    "        if result.matched_count == 0 and not result.upserted_id:\n",
    "            raise HTTPException(status_code=400, detail=\"Failed to update or insert item\")\n",
    "        return item\n",
    "    \n",
    "    except Exception as e:\n",
    "        raise HTTPException(status_code=500, detail=f\"An error occurred: {str(e)}\")\n",
    "\n",
    "    finally:\n",
    "        if client:\n",
    "            client.close()"
   ]
  },
  {
   "cell_type": "code",
   "execution_count": 10,
   "metadata": {},
   "outputs": [],
   "source": [
    "@app.post(\"/upload/\")\n",
    "async def upload_excel(file: UploadFile = File(...)):\n",
    "    collection = mongo_connection()\n",
    "    \n",
    "    if not file.filename.endswith(\".xlsx\"):\n",
    "        raise HTTPException(status_code=400, detail=\"Invalid file format. Only .xlsx files are supported.\")\n",
    "    \n",
    "    try:\n",
    "        # Read the Excel file into a Pandas DataFrame\n",
    "        df = pd.read_excel(BytesIO(await file.read()))\n",
    "        \n",
    "        # Validate required columns\n",
    "        required_columns = {\"Name\", \"Quantity\", \"Cabinet\", \"Room\", \"Location\"}\n",
    "        if not required_columns.issubset(df.columns):\n",
    "            raise HTTPException(status_code=400, detail=\"Excel file is missing required columns\")\n",
    "\n",
    "        # Insert items into MongoDB\n",
    "        items = []\n",
    "        for i, row in df.iterrows():\n",
    "            quantity = row[\"Quantity\"] if pd.notna(row[\"Quantity\"]) and row[\"Quantity\"] != \"\" else \"too many\"\n",
    "        \n",
    "            item_data = {\n",
    "                \"id\": collection.estimated_document_count() + i + 1,  # Auto-generate item ID\n",
    "                \"name\": row[\"Name\"],\n",
    "                \"description\": row.get(\"Description\", \"\"),\n",
    "                \"quantity\": quantity,\n",
    "                \"cabinet\": row[\"Cabinet\"],\n",
    "                \"room\": row[\"Room\"],\n",
    "                \"location\": row[\"Location\"]\n",
    "            }\n",
    "            items.append(item_data)\n",
    "\n",
    "        if items:\n",
    "            collection.insert_many(items)\n",
    "\n",
    "        return {\"message\": f\"Successfully uploaded and inserted {len(items)} items into the database.\"}\n",
    "    \n",
    "    except Exception as e:\n",
    "        raise HTTPException(status_code=500, detail=f\"An error occurred: {str(e)}\")\n",
    "    \n",
    "    finally:\n",
    "        if client:\n",
    "            client.close()\n"
   ]
  },
  {
   "cell_type": "code",
   "execution_count": null,
   "metadata": {},
   "outputs": [],
   "source": [
    "config = Config(app=app, host=\"127.0.0.1\", port=8000)\n",
    "server = Server(config=config)\n",
    "server.run()"
   ]
  }
 ],
 "metadata": {
  "kernelspec": {
   "display_name": "Python 3",
   "language": "python",
   "name": "python3"
  },
  "language_info": {
   "codemirror_mode": {
    "name": "ipython",
    "version": 3
   },
   "file_extension": ".py",
   "mimetype": "text/x-python",
   "name": "python",
   "nbconvert_exporter": "python",
   "pygments_lexer": "ipython3",
   "version": "3.9.6"
  }
 },
 "nbformat": 4,
 "nbformat_minor": 2
}
